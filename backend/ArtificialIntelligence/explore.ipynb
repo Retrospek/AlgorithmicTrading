{
 "cells": [
  {
   "cell_type": "markdown",
   "metadata": {},
   "source": [
    "# **Exploring Agriculture Dataset**"
   ]
  },
  {
   "cell_type": "markdown",
   "metadata": {},
   "source": [
    "Import Packages"
   ]
  },
  {
   "cell_type": "code",
   "execution_count": 1,
   "metadata": {},
   "outputs": [],
   "source": [
    "import pandas as pd \n",
    "import numpy as np\n",
    "import matplotlib.pyplot as plt"
   ]
  },
  {
   "cell_type": "markdown",
   "metadata": {},
   "source": [
    "Begin Lmaoo"
   ]
  },
  {
   "cell_type": "code",
   "execution_count": 12,
   "metadata": {},
   "outputs": [
    {
     "name": "stdout",
     "output_type": "stream",
     "text": [
      "Data Sources: ['Cocoa' 'Coffee' 'Cotton' 'Random Length Lumber' 'Orange Juice' 'Sugar']\n",
      "6 Data Sources\n"
     ]
    },
    {
     "data": {
      "text/html": [
       "<div>\n",
       "<style scoped>\n",
       "    .dataframe tbody tr th:only-of-type {\n",
       "        vertical-align: middle;\n",
       "    }\n",
       "\n",
       "    .dataframe tbody tr th {\n",
       "        vertical-align: top;\n",
       "    }\n",
       "\n",
       "    .dataframe thead th {\n",
       "        text-align: right;\n",
       "    }\n",
       "</style>\n",
       "<table border=\"1\" class=\"dataframe\">\n",
       "  <thead>\n",
       "    <tr style=\"text-align: right;\">\n",
       "      <th></th>\n",
       "      <th>ticker</th>\n",
       "      <th>commodity</th>\n",
       "      <th>date</th>\n",
       "      <th>open</th>\n",
       "      <th>high</th>\n",
       "      <th>low</th>\n",
       "      <th>close</th>\n",
       "      <th>volume</th>\n",
       "    </tr>\n",
       "  </thead>\n",
       "  <tbody>\n",
       "    <tr>\n",
       "      <th>0</th>\n",
       "      <td>CC=F</td>\n",
       "      <td>Cocoa</td>\n",
       "      <td>2000-01-03</td>\n",
       "      <td>840.0</td>\n",
       "      <td>846.0</td>\n",
       "      <td>820.0</td>\n",
       "      <td>830.0</td>\n",
       "      <td>2426</td>\n",
       "    </tr>\n",
       "    <tr>\n",
       "      <th>1</th>\n",
       "      <td>CC=F</td>\n",
       "      <td>Cocoa</td>\n",
       "      <td>2000-01-04</td>\n",
       "      <td>830.0</td>\n",
       "      <td>841.0</td>\n",
       "      <td>823.0</td>\n",
       "      <td>836.0</td>\n",
       "      <td>1957</td>\n",
       "    </tr>\n",
       "    <tr>\n",
       "      <th>2</th>\n",
       "      <td>CC=F</td>\n",
       "      <td>Cocoa</td>\n",
       "      <td>2000-01-05</td>\n",
       "      <td>840.0</td>\n",
       "      <td>850.0</td>\n",
       "      <td>828.0</td>\n",
       "      <td>831.0</td>\n",
       "      <td>3975</td>\n",
       "    </tr>\n",
       "    <tr>\n",
       "      <th>3</th>\n",
       "      <td>CC=F</td>\n",
       "      <td>Cocoa</td>\n",
       "      <td>2000-01-06</td>\n",
       "      <td>830.0</td>\n",
       "      <td>847.0</td>\n",
       "      <td>824.0</td>\n",
       "      <td>841.0</td>\n",
       "      <td>3454</td>\n",
       "    </tr>\n",
       "    <tr>\n",
       "      <th>4</th>\n",
       "      <td>CC=F</td>\n",
       "      <td>Cocoa</td>\n",
       "      <td>2000-01-07</td>\n",
       "      <td>848.0</td>\n",
       "      <td>855.0</td>\n",
       "      <td>836.0</td>\n",
       "      <td>853.0</td>\n",
       "      <td>5008</td>\n",
       "    </tr>\n",
       "  </tbody>\n",
       "</table>\n",
       "</div>"
      ],
      "text/plain": [
       "  ticker commodity        date   open   high    low  close  volume\n",
       "0   CC=F     Cocoa  2000-01-03  840.0  846.0  820.0  830.0    2426\n",
       "1   CC=F     Cocoa  2000-01-04  830.0  841.0  823.0  836.0    1957\n",
       "2   CC=F     Cocoa  2000-01-05  840.0  850.0  828.0  831.0    3975\n",
       "3   CC=F     Cocoa  2000-01-06  830.0  847.0  824.0  841.0    3454\n",
       "4   CC=F     Cocoa  2000-01-07  848.0  855.0  836.0  853.0    5008"
      ]
     },
     "execution_count": 12,
     "metadata": {},
     "output_type": "execute_result"
    }
   ],
   "source": [
    "#Load in Data\n",
    "data = pd.read_csv(r'data\\all_agricultural_products_data.csv')\n",
    "\n",
    "data_sources = data['commodity'].unique()\n",
    "print(f\"Data Sources: {data_sources}\")\n",
    "print(f\"{len(data_sources)} Data Sources\")\n",
    "lumber = data.loc[data['commodity'] == \"Random Length Lumber\"]\n",
    "cocoa = data.loc[data['commodity'] == \"Cocoa\"]\n",
    "coffee = data.loc[data['commodity'] == \"Coffee\"]\n",
    "orangeJuice = data.loc[data['commodity'] == \"Orange Juice\"]\n",
    "sugar = data.loc[data['commodity'] == \"Sugar\"]\n",
    "\n",
    "data.head(5)"
   ]
  },
  {
   "cell_type": "code",
   "execution_count": null,
   "metadata": {},
   "outputs": [],
   "source": [
    "fig, axs = plt.subplots(2, 3)\n",
    "\n",
    "\n",
    "axs[0, 0].plot()"
   ]
  },
  {
   "cell_type": "markdown",
   "metadata": {},
   "source": []
  }
 ],
 "metadata": {
  "kernelspec": {
   "display_name": "venv",
   "language": "python",
   "name": "python3"
  },
  "language_info": {
   "codemirror_mode": {
    "name": "ipython",
    "version": 3
   },
   "file_extension": ".py",
   "mimetype": "text/x-python",
   "name": "python",
   "nbconvert_exporter": "python",
   "pygments_lexer": "ipython3",
   "version": "3.12.8"
  }
 },
 "nbformat": 4,
 "nbformat_minor": 2
}
