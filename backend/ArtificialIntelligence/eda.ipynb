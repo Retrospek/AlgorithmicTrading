{
 "cells": [
  {
   "cell_type": "markdown",
   "metadata": {},
   "source": [
    "# **Exploratory Data Analysis**"
   ]
  },
  {
   "cell_type": "markdown",
   "metadata": {},
   "source": [
    "Import Packages"
   ]
  },
  {
   "cell_type": "code",
   "execution_count": 1,
   "metadata": {},
   "outputs": [],
   "source": [
    "import pandas as pd\n",
    "import numpy as np\n",
    "import yfinance as yf\n",
    "from datetime import datetime, timedelta\n",
    "import sklearn\n",
    "from sklearn.preprocessing import MinMaxScaler, StandardScaler, RobustScaler\n",
    "from sklearn.model_selection import train_test_split, KFold, GridSearchCV, TimeSeriesSplit\n",
    "from sklearn.linear_model import LinearRegression\n",
    "from sklearn.metrics import mean_squared_error, mean_absolute_error, r2_score, f1_score\n",
    "\n",
    "# Visualization\n",
    "import matplotlib.pyplot as plt\n",
    "import seaborn as sns\n",
    "from datetime import date\n",
    "import nasdaqdatalink\n",
    "\n",
    "# Machine Learning Models\n",
    "from sklearn.ensemble import (\n",
    "    RandomForestRegressor, GradientBoostingRegressor, AdaBoostRegressor,\n",
    "    VotingRegressor, StackingRegressor, BaggingRegressor\n",
    ")\n",
    "import xgboost as xgb\n",
    "from xgboost import XGBRegressor\n",
    "\n",
    "import torch\n",
    "import torch.nn as nn\n",
    "import torch.optim as optim\n",
    "import torch.functional as F\n",
    "from torch.utils.data import Dataset, DataLoader"
   ]
  },
  {
   "cell_type": "markdown",
   "metadata": {},
   "source": [
    "#--- Starting Here ---#"
   ]
  },
  {
   "cell_type": "code",
   "execution_count": 2,
   "metadata": {},
   "outputs": [],
   "source": [
    "def calculate_rsi(data, window=14):\n",
    "    delta = data.diff()\n",
    "    gain = (delta.where(delta > 0, 0)).rolling(window=window).mean()\n",
    "    loss = (-delta.where(delta < 0, 0)).rolling(window=window).mean()\n",
    "    rs = gain / loss\n",
    "    rsi = 100 - (100 / (1 + rs))\n",
    "    return rsi"
   ]
  },
  {
   "cell_type": "code",
   "execution_count": 7,
   "metadata": {},
   "outputs": [
    {
     "name": "stderr",
     "output_type": "stream",
     "text": [
      "[*********************100%***********************]  1 of 1 completed\n",
      "[*********************100%***********************]  1 of 1 completed\n",
      "[*********************100%***********************]  1 of 1 completed\n",
      "[*********************100%***********************]  1 of 1 completed\n",
      "[*********************100%***********************]  1 of 1 completed\n",
      "[*********************100%***********************]  1 of 1 completed\n",
      "[*********************100%***********************]  1 of 1 completed\n"
     ]
    },
    {
     "name": "stdout",
     "output_type": "stream",
     "text": [
      "Price        Date     Close      High       Low      Open        Volume  \\\n",
      "Ticker                 NVDA      NVDA      NVDA      NVDA          NVDA   \n",
      "0      2010-01-22  0.377381  0.393429  0.375088  0.386322  1.067916e+09   \n",
      "1      2010-01-25  0.383800  0.391137  0.380820  0.383571  6.436760e+08   \n",
      "2      2010-01-26  0.371649  0.384488  0.371419  0.381966  7.146360e+08   \n",
      "3      2010-01-27  0.381737  0.383112  0.367293  0.371420  8.125040e+08   \n",
      "4      2010-01-28  0.368897  0.386093  0.363624  0.384717  6.877640e+08   \n",
      "\n",
      "Price  Ticker        RSI RSI_Scaled Close  ...      High  Low Open Volume  \\\n",
      "Ticker                                TSM  ... MRVL MRVL MRVL MRVL   MRVL   \n",
      "0        NVDA  24.688356   0.225087   NaN  ...  NaN  NaN  NaN  NaN    NaN   \n",
      "1        NVDA  29.603792   0.276050   NaN  ...  NaN  NaN  NaN  NaN    NaN   \n",
      "2        NVDA  21.978053   0.196987   NaN  ...  NaN  NaN  NaN  NaN    NaN   \n",
      "3        NVDA  27.104761   0.250140   NaN  ...  NaN  NaN  NaN  NaN    NaN   \n",
      "4        NVDA  26.086970   0.239588   NaN  ...  NaN  NaN  NaN  NaN    NaN   \n",
      "\n",
      "Price  Close High Low Open Volume  \n",
      "Ticker    ON   ON  ON   ON     ON  \n",
      "0        NaN  NaN NaN  NaN    NaN  \n",
      "1        NaN  NaN NaN  NaN    NaN  \n",
      "2        NaN  NaN NaN  NaN    NaN  \n",
      "3        NaN  NaN NaN  NaN    NaN  \n",
      "4        NaN  NaN NaN  NaN    NaN  \n",
      "\n",
      "[5 rows x 39 columns]\n"
     ]
    }
   ],
   "source": [
    "NVDA = 'NVDA'\n",
    "SEMICONDUCTORS = [\"TSM\", \"AVGO\", \"AMD\", \"ASML\", \"MRVL\", \"ON\"]\n",
    "scaler = MinMaxScaler(feature_range=(0, 1)) # Scaling RSI values for more relatable trends\n",
    "\n",
    "semiConductor_data = yf.download(NVDA, start='2010-01-01', end='2024-01-01')\n",
    "semiConductor_data['Ticker'] = NVDA\n",
    "semiConductor_data['RSI'] = calculate_rsi(semiConductor_data['Close'], window=14)\n",
    "semiConductor_data['RSI_Scaled'] = scaler.fit_transform(semiConductor_data['RSI'].values.reshape(-1, 1))\n",
    "semiConductor_data.reset_index(drop=False, inplace=True)\n",
    "semiConductor_data = semiConductor_data.dropna()\n",
    "\n",
    "for stock in SEMICONDUCTORS:\n",
    "    stock_data = yf.download(stock, start=\"2020-01-01\", end=\"2024-01-01\")\n",
    "    stock_data['Ticker'] = stock\n",
    "    stock_data['RSI'] = calculate_rsi(stock_data['Close'], window=14)\n",
    "    stock_data['RSI_Scaled'] = scaler.fit_transform(stock_data['RSI'].values.reshape(-1, 1))\n",
    "    stock_data.reset_index(drop=False, inplace=True)\n",
    "    stock_data = stock_data.dropna()\n",
    "    semiConductor_data = pd.concat([semiConductor_data, stock_data], ignore_index=True)\n",
    "\n",
    "semiConductor_data.to_csv(\"semiconductorData.csv\", index=False)\n",
    "print(semiConductor_data.head(5))"
   ]
  },
  {
   "cell_type": "code",
   "execution_count": null,
   "metadata": {},
   "outputs": [],
   "source": [
    "def calculate_rsi(data, window=14):\n",
    "    delta = data.diff()\n",
    "    gain = (delta.where(delta > 0, 0)).rolling(window=window).mean()\n",
    "    loss = (-delta.where(delta < 0, 0)).rolling(window=window).mean()\n",
    "    rs = gain / loss\n",
    "    rsi = 100 - (100 / (1 + rs))\n",
    "    return rsi\n",
    "\n",
    "nvidia['RSI'] = calculate_rsi(nvidia['Close'], window=14)\n",
    "nvidia = nvidia.dropna()\n",
    "\n",
    "nvidia = nvidia.reset_index()\n",
    "nvidia['Date'] = pd.to_datetime(nvidia['Date'])\n",
    "\n",
    "print(nvidia.dtypes)\n",
    "nvidia.head(10)"
   ]
  },
  {
   "cell_type": "code",
   "execution_count": null,
   "metadata": {},
   "outputs": [],
   "source": [
    "scaler = MinMaxScaler(feature_range=(0, 1))\n",
    "nvidia['RSIScaled'] = scaler.fit_transform(nvidia['RSI'].values.reshape(-1, 1))\n",
    "\n",
    "features = [col[0] for col in nvidia.columns.values if col[0] != \"RSI\" and col[0] != \"RSIScaled\"]\n",
    "target = \"RSIScaled\"\n",
    "leftover_feature = \"RSI\"\n",
    "\n",
    "input_size = 30\n",
    "output_size = 10\n",
    "\n",
    "print(nvidia.head(5))\n",
    "print(f\"Target Features: {features}\")\n",
    "print(f\"Target: {target}\")\n",
    "print(f\"LeftOver Feature: {leftover_feature}\")"
   ]
  },
  {
   "cell_type": "code",
   "execution_count": null,
   "metadata": {},
   "outputs": [],
   "source": [
    "class lstmDataset(Dataset):\n",
    "    def __init__(self, data, input_window=30, output_window=7, batch_size = 32, shuffle=True):\n",
    "        self.data = torch.FloatTensor(data)\n",
    "        self.input_window = input_window\n",
    "        self.output_window = output_window\n",
    "    \n",
    "    def __len__(self):\n",
    "        "
   ]
  },
  {
   "cell_type": "markdown",
   "metadata": {},
   "source": []
  }
 ],
 "metadata": {
  "kernelspec": {
   "display_name": "venv",
   "language": "python",
   "name": "python3"
  },
  "language_info": {
   "codemirror_mode": {
    "name": "ipython",
    "version": 3
   },
   "file_extension": ".py",
   "mimetype": "text/x-python",
   "name": "python",
   "nbconvert_exporter": "python",
   "pygments_lexer": "ipython3",
   "version": "3.12.8"
  }
 },
 "nbformat": 4,
 "nbformat_minor": 2
}
