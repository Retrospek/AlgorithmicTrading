{
 "cells": [
  {
   "cell_type": "markdown",
   "metadata": {},
   "source": [
    "# **Exploratory Data Analysis**"
   ]
  },
  {
   "cell_type": "markdown",
   "metadata": {},
   "source": [
    "Import Packages"
   ]
  },
  {
   "cell_type": "code",
   "execution_count": 1,
   "metadata": {},
   "outputs": [
    {
     "name": "stdout",
     "output_type": "stream",
     "text": [
      "Using device: cuda\n"
     ]
    }
   ],
   "source": [
    "import pandas as pd\n",
    "pd.set_option('display.width', 1000)\n",
    "\n",
    "import numpy as np\n",
    "import yfinance as yf\n",
    "from datetime import datetime, timedelta\n",
    "import sklearn\n",
    "from sklearn.preprocessing import MinMaxScaler, StandardScaler, RobustScaler\n",
    "\n",
    "# Visualization\n",
    "import matplotlib.pyplot as plt\n",
    "\n",
    "from torchinfo import summary\n",
    "\n",
    "import xgboost as xgb\n",
    "from xgboost import XGBRegressor\n",
    "\n",
    "import random\n",
    "\n",
    "import torch\n",
    "import torch.nn as nn\n",
    "import torch.optim as optim\n",
    "import torch.functional as F\n",
    "from torch.utils.data import Dataset, DataLoader, random_split\n",
    "from torch.optim.lr_scheduler import ReduceLROnPlateau\n",
    "\n",
    "device = torch.device('cuda' if torch.cuda.is_available() else 'cpu')\n",
    "print(f\"Using device: {device}\")"
   ]
  },
  {
   "cell_type": "markdown",
   "metadata": {},
   "source": [
    "#--- Starting Here ---#"
   ]
  },
  {
   "cell_type": "code",
   "execution_count": 2,
   "metadata": {},
   "outputs": [],
   "source": [
    "def calculate_rsi(data, window=14):\n",
    "    delta = data.diff()\n",
    "    gain = (delta.where(delta > 0, 0)).rolling(window=window).mean()\n",
    "    loss = (-delta.where(delta < 0, 0)).rolling(window=window).mean()\n",
    "    rs = gain / loss\n",
    "    rsi = 100 - (100 / (1 + rs))\n",
    "    return rsi"
   ]
  },
  {
   "cell_type": "code",
   "execution_count": 7,
   "metadata": {},
   "outputs": [
    {
     "name": "stderr",
     "output_type": "stream",
     "text": [
      "[*********************100%***********************]  1 of 1 completed\n",
      "[*********************100%***********************]  1 of 1 completed\n",
      "[*********************100%***********************]  1 of 1 completed\n",
      "[*********************100%***********************]  1 of 1 completed\n",
      "[*********************100%***********************]  1 of 1 completed\n",
      "[*********************100%***********************]  1 of 1 completed\n",
      "[*********************100%***********************]  1 of 1 completed\n"
     ]
    },
    {
     "name": "stdout",
     "output_type": "stream",
     "text": [
      "['NVDA', 'TSM', 'AVGO', 'AMD', 'ASML', 'MRVL', 'ON']\n",
      "TSM rows: 3509\n",
      "AVGO rows: 3509\n",
      "AMD rows: 3509\n",
      "ASML rows: 3509\n",
      "MRVL rows: 3509\n",
      "ON rows: 3509\n",
      "NVDA rows: 3509\n",
      "Index(['Close', 'High', 'Low', 'Open', 'Volume', 'Ticker', 'RSI'], dtype='object')\n",
      "Close     float64\n",
      "High      float64\n",
      "Low       float64\n",
      "Open      float64\n",
      "Volume      int64\n",
      "Ticker      int64\n",
      "RSI       float64\n",
      "dtype: object\n",
      "Conversion: Index(['NVDA', 'TSM', 'AVGO', 'AMD', 'ASML', 'MRVL', 'ON'], dtype='object')\n"
     ]
    },
    {
     "data": {
      "text/html": [
       "<div>\n",
       "<style scoped>\n",
       "    .dataframe tbody tr th:only-of-type {\n",
       "        vertical-align: middle;\n",
       "    }\n",
       "\n",
       "    .dataframe tbody tr th {\n",
       "        vertical-align: top;\n",
       "    }\n",
       "\n",
       "    .dataframe thead th {\n",
       "        text-align: right;\n",
       "    }\n",
       "</style>\n",
       "<table border=\"1\" class=\"dataframe\">\n",
       "  <thead>\n",
       "    <tr style=\"text-align: right;\">\n",
       "      <th></th>\n",
       "      <th>Close</th>\n",
       "      <th>High</th>\n",
       "      <th>Low</th>\n",
       "      <th>Open</th>\n",
       "      <th>Volume</th>\n",
       "      <th>Ticker</th>\n",
       "      <th>RSI</th>\n",
       "    </tr>\n",
       "  </thead>\n",
       "  <tbody>\n",
       "    <tr>\n",
       "      <th>13</th>\n",
       "      <td>0.377381</td>\n",
       "      <td>0.393430</td>\n",
       "      <td>0.375088</td>\n",
       "      <td>0.386322</td>\n",
       "      <td>1067916000</td>\n",
       "      <td>0</td>\n",
       "      <td>24.688339</td>\n",
       "    </tr>\n",
       "    <tr>\n",
       "      <th>14</th>\n",
       "      <td>0.383800</td>\n",
       "      <td>0.391137</td>\n",
       "      <td>0.380820</td>\n",
       "      <td>0.383571</td>\n",
       "      <td>643676000</td>\n",
       "      <td>0</td>\n",
       "      <td>29.603827</td>\n",
       "    </tr>\n",
       "    <tr>\n",
       "      <th>15</th>\n",
       "      <td>0.371649</td>\n",
       "      <td>0.384488</td>\n",
       "      <td>0.371420</td>\n",
       "      <td>0.381966</td>\n",
       "      <td>714636000</td>\n",
       "      <td>0</td>\n",
       "      <td>21.978114</td>\n",
       "    </tr>\n",
       "    <tr>\n",
       "      <th>16</th>\n",
       "      <td>0.381737</td>\n",
       "      <td>0.383112</td>\n",
       "      <td>0.367293</td>\n",
       "      <td>0.371420</td>\n",
       "      <td>812504000</td>\n",
       "      <td>0</td>\n",
       "      <td>27.104812</td>\n",
       "    </tr>\n",
       "    <tr>\n",
       "      <th>17</th>\n",
       "      <td>0.368898</td>\n",
       "      <td>0.386093</td>\n",
       "      <td>0.363624</td>\n",
       "      <td>0.384717</td>\n",
       "      <td>687764000</td>\n",
       "      <td>0</td>\n",
       "      <td>26.087047</td>\n",
       "    </tr>\n",
       "  </tbody>\n",
       "</table>\n",
       "</div>"
      ],
      "text/plain": [
       "       Close      High       Low      Open      Volume  Ticker        RSI\n",
       "13  0.377381  0.393430  0.375088  0.386322  1067916000       0  24.688339\n",
       "14  0.383800  0.391137  0.380820  0.383571   643676000       0  29.603827\n",
       "15  0.371649  0.384488  0.371420  0.381966   714636000       0  21.978114\n",
       "16  0.381737  0.383112  0.367293  0.371420   812504000       0  27.104812\n",
       "17  0.368898  0.386093  0.363624  0.384717   687764000       0  26.087047"
      ]
     },
     "execution_count": 7,
     "metadata": {},
     "output_type": "execute_result"
    }
   ],
   "source": [
    "NVDA = 'NVDA'\n",
    "SEMICONDUCTORS = [\"TSM\", \"AVGO\", \"AMD\", \"ASML\", \"MRVL\", \"ON\"]\n",
    "\n",
    "#--- Preface: Min Max Scaler is Incorrect as we cannot find a reason to justify that the maximum in any of the features has been achieved ---#\n",
    "#--- Preface Continued: The RSI values range from 0 to 100, so positive values in a fixed range for regression ---#\n",
    "# Setup semiconductor data using Nvidia as starting place\n",
    "semiConductor_data = yf.download(NVDA, start='2010-01-01', end='2024-01-01')\n",
    "semiConductor_data.columns = [col[0] for col in semiConductor_data.columns]\n",
    "semiConductor_data['RSI'] = calculate_rsi(semiConductor_data['Close'], window=14)\n",
    "semiConductor_data.reset_index(inplace=True) # Removes date as index\n",
    "semiConductor_data['Ticker'] = NVDA\n",
    "semiConductor_data = semiConductor_data[['Date', 'Close', 'High', 'Low', 'Open', 'Volume', 'Ticker', 'RSI']]\n",
    "                                                            \n",
    "#print(f\"Total Data Length: {len(semiConductor_data)}\")\n",
    "\n",
    "for stock in SEMICONDUCTORS:\n",
    "\n",
    "    stock_data = yf.download(stock, start=\"2010-01-01\", end=\"2024-01-01\")                                                                                          \n",
    "    stock_data['Ticker'] = stock\n",
    "    stock_data['RSI'] = calculate_rsi(stock_data['Close'], window=14)\n",
    "    stock_data.reset_index(inplace=True)\n",
    "    stock_data.columns = [col[0] for col in stock_data.columns]\n",
    "\n",
    "    # Add new stock data with RSI\n",
    "    semiConductor_data = pd.concat([semiConductor_data, stock_data], ignore_index=True)\n",
    "\n",
    "semiConductor_data.drop(columns=['Date',], inplace=True)\n",
    "semiConductor_data = semiConductor_data.dropna()\n",
    "semiConductor_data.to_csv(\"semiconductorData.csv\", index=False)\n",
    "\n",
    "print([ i for i in semiConductor_data['Ticker'].unique()])\n",
    "\n",
    "stock_symbols = SEMICONDUCTORS + [NVDA]\n",
    "for stock in stock_symbols:\n",
    "    print(f\"{stock} rows: {len(semiConductor_data.loc[semiConductor_data['Ticker'] == stock])}\")\n",
    "\n",
    "semiConductor_data['Ticker'], conversion = pd.factorize(semiConductor_data['Ticker'])\n",
    "\n",
    "#'RSI', 'Close', 'High', 'Low', 'Open', 'Volume'\n",
    "print(semiConductor_data.columns)\n",
    "print(semiConductor_data.dtypes)\n",
    "print(f\"Conversion: {conversion}\")\n",
    "semiConductor_data.head(5)\n"
   ]
  },
  {
   "cell_type": "markdown",
   "metadata": {},
   "source": [
    "# **Processing**\n",
    "\n",
    "- create different datasets for different companies\n",
    "- History sequence length: 60 days in advance\n",
    "- Output sequence length: 5 days in future"
   ]
  },
  {
   "cell_type": "markdown",
   "metadata": {},
   "source": [
    "Creating LSTM Dataset"
   ]
  },
  {
   "cell_type": "code",
   "execution_count": 25,
   "metadata": {},
   "outputs": [],
   "source": [
    "class LSTMdataset(Dataset):\n",
    "    def __init__(self, data, sequence_length, output_length):\n",
    "        self.data = data\n",
    "\n",
    "        self.targetIDX = data.columns.tolist().index('RSI')\n",
    "        self.sequence_length = sequence_length\n",
    "        self.output_length = output_length\n",
    "        self.sample_length = sequence_length + output_length\n",
    "\n",
    "    def __len__(self):\n",
    "        return len(self.data)\n",
    "    \n",
    "    def __getitem__(self, dayIDX):\n",
    "        self.history = self.data[dayIDX : dayIDX + self.sequence_length]\n",
    "        self.forecast = self.data[dayIDX + self.sequence_length : dayIDX + self.sample_length, self.targetIDX]\n",
    "\n",
    "        return self.history, self.forecast"
   ]
  },
  {
   "cell_type": "code",
   "execution_count": 26,
   "metadata": {},
   "outputs": [
    {
     "name": "stdout",
     "output_type": "stream",
     "text": [
      "Dataloaders: 7\n"
     ]
    }
   ],
   "source": [
    "stock_loaders = {}\n",
    "\n",
    "stocks = semiConductor_data['Ticker'].unique()\n",
    "#-- INFO --#\n",
    "shuffle = True\n",
    "batch_size = 32\n",
    "\n",
    "for stock in stocks:\n",
    "    stock_data = semiConductor_data.loc[semiConductor_data['Ticker'] == stock]\n",
    "    stock_data = stock_data.drop(columns='Ticker')\n",
    "    lstmdataset = LSTMdataset(data=stock_data, sequence_length=60, output_length=5)\n",
    "    stock_loader = DataLoader(lstmdataset, batch_size, shuffle)\n",
    "\n",
    "    stock_loaders[stock] = stock_loader\n",
    "\n",
    "print(f\"Dataloaders: {len(stock_loaders)}\")"
   ]
  },
  {
   "cell_type": "markdown",
   "metadata": {},
   "source": [
    "Create Model"
   ]
  },
  {
   "cell_type": "code",
   "execution_count": 29,
   "metadata": {},
   "outputs": [],
   "source": [
    "class LSTMRegression(nn.Module):\n",
    "    def __init__(self, input_size, output_size):\n",
    "        super(LSTMRegression, self).__init__()\n",
    "\n",
    "        # ----- LAYERS ----- #\n",
    "        self.lstm = nn.Sequential(\n",
    "            nn.LSTM(input_size, 256),\n",
    "            nn.LSTM(256, 128)\n",
    "        )\n",
    "\n",
    "        self.dense = nn.Sequential(\n",
    "            nn.Linear(128, 64),\n",
    "            nn.Linear(64, 5)\n",
    "        )\n",
    "\n",
    "        self.batch_norm = nn.Sequential(        \n",
    "            # -- LSTM LAYER -- #\n",
    "            nn.BatchNorm1d(input_size),\n",
    "\n",
    "            # -- DENSE LAYERS -- #\n",
    "            nn.BatchNorm1d(128),\n",
    "            nn.BatchNorm1d(64)\n",
    "        )\n",
    "\n",
    "        # ----- ACTIVATION FUNCTIONS ----- #\n",
    "        self.relu = nn.ReLU()\n",
    "        self.sigmoid = nn.Sigmoid()\n",
    "        self.tanh = nn.Tanh()\n",
    "\n",
    "        # ----- FUNCTIONS ----- #\n",
    "        self.dropout2 = nn.Dropout(0.2)\n",
    "        self.dropout1 = nn.Dropout(0.1)\n",
    "\n",
    "    def forward(self, x):\n",
    "\n",
    "        out = self.batch_norm[0](x)\n",
    "        out, _ = self.lstm[0](out)\n",
    "        out, _ = self.lstm[1](out)\n",
    "\n",
    "        out = self.dense[0](out)\n",
    "        out = self.relu(out)\n",
    "        #out = self.batch_norm[1](out)\n",
    "\n",
    "        out = self.dense[1](out)\n",
    "        out = self.relu(out)\n",
    "        #out = self.batch_norm[2](out)\n",
    "\n",
    "        return out"
   ]
  },
  {
   "cell_type": "code",
   "execution_count": 31,
   "metadata": {},
   "outputs": [],
   "source": [
    "model = LSTMRegression(input_size=6, output_size=5).to(device)\n",
    "optimizer = optim.Adam(params=model.parameters(), lr=0.001)\n",
    "criterion = nn.MSELoss()"
   ]
  },
  {
   "cell_type": "code",
   "execution_count": null,
   "metadata": {},
   "outputs": [],
   "source": [
    "epochs = 30\n",
    "test_loaders = []\n",
    "\n",
    "for sym, loader in stock_loaders.items():\n",
    "    test_loader = []\n",
    "    train, test = torch.utils.data.random_split(loader,lengths=[0.8, 0.2])\n",
    "    test_loader.append(test)\n",
    "    test_loaders.append(test_loader)\n",
    "\n",
    "    for \n"
   ]
  }
 ],
 "metadata": {
  "kernelspec": {
   "display_name": "venv",
   "language": "python",
   "name": "python3"
  },
  "language_info": {
   "codemirror_mode": {
    "name": "ipython",
    "version": 3
   },
   "file_extension": ".py",
   "mimetype": "text/x-python",
   "name": "python",
   "nbconvert_exporter": "python",
   "pygments_lexer": "ipython3",
   "version": "3.12.8"
  }
 },
 "nbformat": 4,
 "nbformat_minor": 2
}
