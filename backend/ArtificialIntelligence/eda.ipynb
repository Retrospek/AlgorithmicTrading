{
 "cells": [
  {
   "cell_type": "markdown",
   "metadata": {},
   "source": [
    "# **Exploratory Data Analysis**"
   ]
  },
  {
   "cell_type": "markdown",
   "metadata": {},
   "source": [
    "Import Packages"
   ]
  },
  {
   "cell_type": "code",
   "execution_count": 25,
   "metadata": {},
   "outputs": [],
   "source": [
    "import pandas as pd\n",
    "pd.set_option('display.width', 1000)\n",
    "\n",
    "import numpy as np\n",
    "import yfinance as yf\n",
    "from datetime import datetime, timedelta\n",
    "import sklearn\n",
    "from sklearn.preprocessing import MinMaxScaler, StandardScaler, RobustScaler\n",
    "from sklearn.model_selection import train_test_split, KFold, GridSearchCV, TimeSeriesSplit\n",
    "from sklearn.linear_model import LinearRegression\n",
    "from sklearn.metrics import mean_squared_error, mean_absolute_error, r2_score, f1_score\n",
    "\n",
    "# Visualization\n",
    "import matplotlib.pyplot as plt\n",
    "import seaborn as sns\n",
    "from datetime import date\n",
    "import nasdaqdatalink\n",
    "\n",
    "# Machine Learning Models\n",
    "from sklearn.ensemble import (\n",
    "    RandomForestRegressor, GradientBoostingRegressor, AdaBoostRegressor,\n",
    "    VotingRegressor, StackingRegressor, BaggingRegressor\n",
    ")\n",
    "import xgboost as xgb\n",
    "from xgboost import XGBRegressor\n",
    "\n",
    "import torch\n",
    "import torch.nn as nn\n",
    "import torch.optim as optim\n",
    "import torch.functional as F\n",
    "from torch.utils.data import Dataset, DataLoader"
   ]
  },
  {
   "cell_type": "markdown",
   "metadata": {},
   "source": [
    "#--- Starting Here ---#"
   ]
  },
  {
   "cell_type": "code",
   "execution_count": 26,
   "metadata": {},
   "outputs": [],
   "source": [
    "def calculate_rsi(data, window=14):\n",
    "    delta = data.diff()\n",
    "    gain = (delta.where(delta > 0, 0)).rolling(window=window).mean()\n",
    "    loss = (-delta.where(delta < 0, 0)).rolling(window=window).mean()\n",
    "    rs = gain / loss\n",
    "    rsi = 100 - (100 / (1 + rs))\n",
    "    return rsi"
   ]
  },
  {
   "cell_type": "code",
   "execution_count": 61,
   "metadata": {},
   "outputs": [
    {
     "name": "stderr",
     "output_type": "stream",
     "text": [
      "[*********************100%***********************]  1 of 1 completed\n",
      "[*********************100%***********************]  1 of 1 completed\n",
      "[*********************100%***********************]  1 of 1 completed\n",
      "[*********************100%***********************]  1 of 1 completed\n",
      "[*********************100%***********************]  1 of 1 completed\n",
      "[*********************100%***********************]  1 of 1 completed\n",
      "[*********************100%***********************]  1 of 1 completed\n"
     ]
    },
    {
     "name": "stdout",
     "output_type": "stream",
     "text": [
      "['ON', 'MRVL', 'ASML', 'AMD', 'AVGO', 'TSM', 'NVDA']\n",
      "TSM rows: 3509\n",
      "AVGO rows: 3509\n",
      "AMD rows: 3509\n",
      "ASML rows: 3509\n",
      "MRVL rows: 3509\n",
      "ON rows: 3509\n",
      "NVDA rows: 3509\n"
     ]
    },
    {
     "data": {
      "text/html": [
       "<div>\n",
       "<style scoped>\n",
       "    .dataframe tbody tr th:only-of-type {\n",
       "        vertical-align: middle;\n",
       "    }\n",
       "\n",
       "    .dataframe tbody tr th {\n",
       "        vertical-align: top;\n",
       "    }\n",
       "\n",
       "    .dataframe thead th {\n",
       "        text-align: right;\n",
       "    }\n",
       "</style>\n",
       "<table border=\"1\" class=\"dataframe\">\n",
       "  <thead>\n",
       "    <tr style=\"text-align: right;\">\n",
       "      <th></th>\n",
       "      <th>Date</th>\n",
       "      <th>Close</th>\n",
       "      <th>High</th>\n",
       "      <th>Low</th>\n",
       "      <th>Open</th>\n",
       "      <th>Volume</th>\n",
       "      <th>Ticker</th>\n",
       "      <th>RSI</th>\n",
       "      <th>RSI_Scaled</th>\n",
       "    </tr>\n",
       "  </thead>\n",
       "  <tbody>\n",
       "    <tr>\n",
       "      <th>13</th>\n",
       "      <td>2010-01-22</td>\n",
       "      <td>7.67</td>\n",
       "      <td>8.06</td>\n",
       "      <td>7.62</td>\n",
       "      <td>8.06</td>\n",
       "      <td>13017500</td>\n",
       "      <td>ON</td>\n",
       "      <td>21.962626</td>\n",
       "      <td>0.179946</td>\n",
       "    </tr>\n",
       "    <tr>\n",
       "      <th>14</th>\n",
       "      <td>2010-01-25</td>\n",
       "      <td>7.92</td>\n",
       "      <td>8.02</td>\n",
       "      <td>7.74</td>\n",
       "      <td>7.76</td>\n",
       "      <td>10853300</td>\n",
       "      <td>ON</td>\n",
       "      <td>30.125530</td>\n",
       "      <td>0.265726</td>\n",
       "    </tr>\n",
       "    <tr>\n",
       "      <th>15</th>\n",
       "      <td>2010-01-26</td>\n",
       "      <td>7.88</td>\n",
       "      <td>7.96</td>\n",
       "      <td>7.74</td>\n",
       "      <td>7.85</td>\n",
       "      <td>7781900</td>\n",
       "      <td>ON</td>\n",
       "      <td>30.638304</td>\n",
       "      <td>0.271114</td>\n",
       "    </tr>\n",
       "    <tr>\n",
       "      <th>16</th>\n",
       "      <td>2010-01-27</td>\n",
       "      <td>7.94</td>\n",
       "      <td>8.01</td>\n",
       "      <td>7.75</td>\n",
       "      <td>7.88</td>\n",
       "      <td>8462600</td>\n",
       "      <td>ON</td>\n",
       "      <td>29.130450</td>\n",
       "      <td>0.255269</td>\n",
       "    </tr>\n",
       "    <tr>\n",
       "      <th>17</th>\n",
       "      <td>2010-01-28</td>\n",
       "      <td>7.44</td>\n",
       "      <td>7.99</td>\n",
       "      <td>7.29</td>\n",
       "      <td>7.99</td>\n",
       "      <td>20256200</td>\n",
       "      <td>ON</td>\n",
       "      <td>24.014345</td>\n",
       "      <td>0.201507</td>\n",
       "    </tr>\n",
       "  </tbody>\n",
       "</table>\n",
       "</div>"
      ],
      "text/plain": [
       "         Date  Close  High   Low  Open    Volume Ticker        RSI  RSI_Scaled\n",
       "13 2010-01-22   7.67  8.06  7.62  8.06  13017500     ON  21.962626    0.179946\n",
       "14 2010-01-25   7.92  8.02  7.74  7.76  10853300     ON  30.125530    0.265726\n",
       "15 2010-01-26   7.88  7.96  7.74  7.85   7781900     ON  30.638304    0.271114\n",
       "16 2010-01-27   7.94  8.01  7.75  7.88   8462600     ON  29.130450    0.255269\n",
       "17 2010-01-28   7.44  7.99  7.29  7.99  20256200     ON  24.014345    0.201507"
      ]
     },
     "execution_count": 61,
     "metadata": {},
     "output_type": "execute_result"
    }
   ],
   "source": [
    "NVDA = 'NVDA'\n",
    "SEMICONDUCTORS = [\"TSM\", \"AVGO\", \"AMD\", \"ASML\", \"MRVL\", \"ON\"]\n",
    "scaler = MinMaxScaler(feature_range=(0, 1)) # Scaling RSI values for more relatable trends\n",
    "\n",
    "semiConductor_data = yf.download(NVDA, start='2010-01-01', end='2024-01-01')\n",
    "semiConductor_data.columns = [col[0] for col in semiConductor_data.columns]\n",
    "semiConductor_data['Ticker'] = NVDA\n",
    "semiConductor_data['RSI'] = calculate_rsi(semiConductor_data['Close'], window=14)\n",
    "semiConductor_data['RSI_Scaled'] = scaler.fit_transform(semiConductor_data['RSI'].values.reshape(-1, 1))\n",
    "semiConductor_data.reset_index(inplace=True)\n",
    "semiConductor_data = semiConductor_data[['Date', 'Close', 'High', 'Low', 'Open', 'Volume', 'Ticker', 'RSI', 'RSI_Scaled']]\n",
    "\n",
    "#print(f\"Total Data Length: {len(semiConductor_data)}\")\n",
    "\n",
    "for stock in SEMICONDUCTORS:\n",
    "    stock_data = yf.download(stock, start=\"2010-01-01\", end=\"2024-01-01\")\n",
    "\n",
    "    stock_data['Ticker'] = stock\n",
    "    stock_data['RSI'] = calculate_rsi(stock_data['Close'], window=14)\n",
    "    stock_data['RSI_Scaled'] = scaler.fit_transform(stock_data['RSI'].values.reshape(-1, 1))\n",
    "    stock_data.reset_index(inplace=True)\n",
    "    #stock_data = stock_data[['Date', 'Close', 'High', 'Low', 'Open', 'Volume', 'Ticker', 'RSI', 'RSI_Scaled']]\n",
    "    stock_data.columns = [col[0] for col in stock_data.columns]\n",
    "\n",
    "    semiConductor_data = pd.concat([stock_data, semiConductor_data], ignore_index=True)\n",
    "\n",
    "    #print([val[0] for val in semiConductor_data.columns.tolist()])\n",
    "    #print(f\"Total Data Length: {len(semiConductor_data)}\")\n",
    "\n",
    "semiConductor_data = semiConductor_data.dropna()\n",
    "semiConductor_data.to_csv(\"semiconductorData.csv\", index=False)\n",
    "print([ i for i in semiConductor_data['Ticker'].unique()])\n",
    "for stock in SEMICONDUCTORS + [NVDA]:\n",
    "    print(f\"{stock} rows: {len(semiConductor_data.loc[semiConductor_data['Ticker'] == stock])}\")\n",
    "semiConductor_data.head(5)\n"
   ]
  },
  {
   "cell_type": "code",
   "execution_count": 62,
   "metadata": {},
   "outputs": [],
   "source": [
    "class lstmDataset(Dataset):\n",
    "    def __init__(self, data, input_window=15, output_window=10):\n",
    "        self.data = torch.FloatTensor(data.values)\n",
    "        self.input_window = input_window\n",
    "        self.output_window = output_window\n",
    "    \n",
    "    def __len__(self):\n",
    "        # Returns the total number of samples that can be generated.\n",
    "        return len(self.data) - self.input_window - self.output_window + 1\n",
    "    \n",
    "    def __getitem__(self, idx):\n",
    "        #Generates a single sample of data.\n",
    "        #Args:\n",
    "        #    idx (int): Index for the sample.\n",
    "        #Returns:\n",
    "        #    Tuple[torch.Tensor, torch.Tensor]: Input and output tensors.\n",
    "        x = self.data[idx : idx + self.input_window] # Gets the 15 values we're using for predictions\n",
    "        y = self.data[idx + self.input_window : idx + self.input_window + self.output_window] # Gets the 10 values we're trying to predict\n",
    "        return x, y"
   ]
  },
  {
   "cell_type": "code",
   "execution_count": null,
   "metadata": {},
   "outputs": [],
   "source": [
    "dataset = lstmDataset(semiConductor_data, input_window=15, output_window=10)"
   ]
  },
  {
   "cell_type": "markdown",
   "metadata": {},
   "source": []
  }
 ],
 "metadata": {
  "kernelspec": {
   "display_name": "venv",
   "language": "python",
   "name": "python3"
  },
  "language_info": {
   "codemirror_mode": {
    "name": "ipython",
    "version": 3
   },
   "file_extension": ".py",
   "mimetype": "text/x-python",
   "name": "python",
   "nbconvert_exporter": "python",
   "pygments_lexer": "ipython3",
   "version": "3.12.8"
  }
 },
 "nbformat": 4,
 "nbformat_minor": 2
}
