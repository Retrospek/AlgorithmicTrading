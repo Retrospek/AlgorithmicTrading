{
 "cells": [
  {
   "cell_type": "markdown",
   "metadata": {},
   "source": [
    "# **Exploratory Data Analysis**"
   ]
  },
  {
   "cell_type": "markdown",
   "metadata": {},
   "source": [
    "Import Packages"
   ]
  },
  {
   "cell_type": "code",
   "execution_count": 2,
   "metadata": {},
   "outputs": [
    {
     "name": "stdout",
     "output_type": "stream",
     "text": [
      "Using device: cuda\n"
     ]
    }
   ],
   "source": [
    "import pandas as pd\n",
    "pd.set_option('display.width', 1000)\n",
    "\n",
    "import numpy as np\n",
    "import yfinance as yf\n",
    "from datetime import datetime, timedelta\n",
    "import sklearn\n",
    "from sklearn.preprocessing import MinMaxScaler, StandardScaler, RobustScaler\n",
    "from sklearn.model_selection import train_test_split, KFold, GridSearchCV, TimeSeriesSplit\n",
    "from sklearn.linear_model import LinearRegression\n",
    "from sklearn.metrics import mean_squared_error, mean_absolute_error, r2_score, f1_score\n",
    "\n",
    "# Visualization\n",
    "import matplotlib.pyplot as plt\n",
    "import seaborn as sns\n",
    "from datetime import date\n",
    "import nasdaqdatalink\n",
    "\n",
    "# Machine Learning Models\n",
    "from sklearn.ensemble import (\n",
    "    RandomForestRegressor, GradientBoostingRegressor, AdaBoostRegressor,\n",
    "    VotingRegressor, StackingRegressor, BaggingRegressor\n",
    ")\n",
    "import xgboost as xgb\n",
    "from xgboost import XGBRegressor\n",
    "\n",
    "import torch\n",
    "import torch.nn as nn\n",
    "import torch.optim as optim\n",
    "import torch.functional as F\n",
    "from torch.utils.data import Dataset, DataLoader\n",
    "\n",
    "device = torch.device('cuda' if torch.cuda.is_available() else 'cpu')\n",
    "print(f\"Using device: {device}\")"
   ]
  },
  {
   "cell_type": "markdown",
   "metadata": {},
   "source": [
    "#--- Starting Here ---#"
   ]
  },
  {
   "cell_type": "code",
   "execution_count": 3,
   "metadata": {},
   "outputs": [],
   "source": [
    "def calculate_rsi(data, window=14):\n",
    "    delta = data.diff()\n",
    "    gain = (delta.where(delta > 0, 0)).rolling(window=window).mean()\n",
    "    loss = (-delta.where(delta < 0, 0)).rolling(window=window).mean()\n",
    "    rs = gain / loss\n",
    "    rsi = 100 - (100 / (1 + rs))\n",
    "    return rsi"
   ]
  },
  {
   "cell_type": "code",
   "execution_count": 4,
   "metadata": {},
   "outputs": [
    {
     "name": "stderr",
     "output_type": "stream",
     "text": [
      "[*********************100%***********************]  1 of 1 completed\n",
      "[*********************100%***********************]  1 of 1 completed\n",
      "[*********************100%***********************]  1 of 1 completed\n",
      "[*********************100%***********************]  1 of 1 completed\n",
      "[*********************100%***********************]  1 of 1 completed\n",
      "[*********************100%***********************]  1 of 1 completed\n",
      "[*********************100%***********************]  1 of 1 completed"
     ]
    },
    {
     "name": "stdout",
     "output_type": "stream",
     "text": [
      "['ON', 'MRVL', 'ASML', 'AMD', 'AVGO', 'TSM', 'NVDA']\n",
      "TSM rows: 3509\n",
      "AVGO rows: 3509\n",
      "AMD rows: 3509\n",
      "ASML rows: 3509\n",
      "MRVL rows: 3509\n",
      "ON rows: 3509\n",
      "NVDA rows: 3509\n",
      "Index(['Date', 'Close', 'High', 'Low', 'Open', 'Volume', 'Ticker', 'RSI', 'RSI_Scaled'], dtype='object')\n",
      "Close         float64\n",
      "High          float64\n",
      "Low           float64\n",
      "Open          float64\n",
      "Volume          int64\n",
      "Ticker         object\n",
      "RSI           float64\n",
      "RSI_Scaled    float64\n",
      "dtype: object\n"
     ]
    },
    {
     "name": "stderr",
     "output_type": "stream",
     "text": [
      "\n"
     ]
    },
    {
     "data": {
      "text/html": [
       "<div>\n",
       "<style scoped>\n",
       "    .dataframe tbody tr th:only-of-type {\n",
       "        vertical-align: middle;\n",
       "    }\n",
       "\n",
       "    .dataframe tbody tr th {\n",
       "        vertical-align: top;\n",
       "    }\n",
       "\n",
       "    .dataframe thead th {\n",
       "        text-align: right;\n",
       "    }\n",
       "</style>\n",
       "<table border=\"1\" class=\"dataframe\">\n",
       "  <thead>\n",
       "    <tr style=\"text-align: right;\">\n",
       "      <th></th>\n",
       "      <th>Close</th>\n",
       "      <th>High</th>\n",
       "      <th>Low</th>\n",
       "      <th>Open</th>\n",
       "      <th>Volume</th>\n",
       "      <th>Ticker</th>\n",
       "      <th>RSI</th>\n",
       "      <th>RSI_Scaled</th>\n",
       "    </tr>\n",
       "  </thead>\n",
       "  <tbody>\n",
       "    <tr>\n",
       "      <th>13</th>\n",
       "      <td>7.67</td>\n",
       "      <td>8.06</td>\n",
       "      <td>7.62</td>\n",
       "      <td>8.06</td>\n",
       "      <td>13017500</td>\n",
       "      <td>ON</td>\n",
       "      <td>21.962626</td>\n",
       "      <td>0.179946</td>\n",
       "    </tr>\n",
       "    <tr>\n",
       "      <th>14</th>\n",
       "      <td>7.92</td>\n",
       "      <td>8.02</td>\n",
       "      <td>7.74</td>\n",
       "      <td>7.76</td>\n",
       "      <td>10853300</td>\n",
       "      <td>ON</td>\n",
       "      <td>30.125530</td>\n",
       "      <td>0.265726</td>\n",
       "    </tr>\n",
       "    <tr>\n",
       "      <th>15</th>\n",
       "      <td>7.88</td>\n",
       "      <td>7.96</td>\n",
       "      <td>7.74</td>\n",
       "      <td>7.85</td>\n",
       "      <td>7781900</td>\n",
       "      <td>ON</td>\n",
       "      <td>30.638304</td>\n",
       "      <td>0.271114</td>\n",
       "    </tr>\n",
       "    <tr>\n",
       "      <th>16</th>\n",
       "      <td>7.94</td>\n",
       "      <td>8.01</td>\n",
       "      <td>7.75</td>\n",
       "      <td>7.88</td>\n",
       "      <td>8462600</td>\n",
       "      <td>ON</td>\n",
       "      <td>29.130450</td>\n",
       "      <td>0.255269</td>\n",
       "    </tr>\n",
       "    <tr>\n",
       "      <th>17</th>\n",
       "      <td>7.44</td>\n",
       "      <td>7.99</td>\n",
       "      <td>7.29</td>\n",
       "      <td>7.99</td>\n",
       "      <td>20256200</td>\n",
       "      <td>ON</td>\n",
       "      <td>24.014345</td>\n",
       "      <td>0.201507</td>\n",
       "    </tr>\n",
       "  </tbody>\n",
       "</table>\n",
       "</div>"
      ],
      "text/plain": [
       "    Close  High   Low  Open    Volume Ticker        RSI  RSI_Scaled\n",
       "13   7.67  8.06  7.62  8.06  13017500     ON  21.962626    0.179946\n",
       "14   7.92  8.02  7.74  7.76  10853300     ON  30.125530    0.265726\n",
       "15   7.88  7.96  7.74  7.85   7781900     ON  30.638304    0.271114\n",
       "16   7.94  8.01  7.75  7.88   8462600     ON  29.130450    0.255269\n",
       "17   7.44  7.99  7.29  7.99  20256200     ON  24.014345    0.201507"
      ]
     },
     "execution_count": 4,
     "metadata": {},
     "output_type": "execute_result"
    }
   ],
   "source": [
    "NVDA = 'NVDA'\n",
    "SEMICONDUCTORS = [\"TSM\", \"AVGO\", \"AMD\", \"ASML\", \"MRVL\", \"ON\"]\n",
    "scaler = MinMaxScaler(feature_range=(0, 1)) # Scaling RSI values for more relatable trends\n",
    "\n",
    "semiConductor_data = yf.download(NVDA, start='2010-01-01', end='2024-01-01')\n",
    "semiConductor_data.columns = [col[0] for col in semiConductor_data.columns]\n",
    "semiConductor_data['Ticker'] = NVDA\n",
    "semiConductor_data['RSI'] = calculate_rsi(semiConductor_data['Close'], window=14)\n",
    "semiConductor_data['RSI_Scaled'] = scaler.fit_transform(semiConductor_data['RSI'].values.reshape(-1, 1))\n",
    "semiConductor_data.reset_index(inplace=True)\n",
    "semiConductor_data = semiConductor_data[['Date', 'Close', 'High', 'Low', 'Open', 'Volume', 'Ticker', 'RSI', 'RSI_Scaled']]\n",
    "\n",
    "#print(f\"Total Data Length: {len(semiConductor_data)}\")\n",
    "\n",
    "for stock in SEMICONDUCTORS:\n",
    "    stock_data = yf.download(stock, start=\"2010-01-01\", end=\"2024-01-01\")\n",
    "\n",
    "    stock_data['Ticker'] = stock\n",
    "    stock_data['RSI'] = calculate_rsi(stock_data['Close'], window=14)\n",
    "    stock_data['RSI_Scaled'] = scaler.fit_transform(stock_data['RSI'].values.reshape(-1, 1))\n",
    "    stock_data.reset_index(inplace=True)\n",
    "    #stock_data = stock_data[['Date', 'Close', 'High', 'Low', 'Open', 'Volume', 'Ticker', 'RSI', 'RSI_Scaled']]\n",
    "    stock_data.columns = [col[0] for col in stock_data.columns]\n",
    "\n",
    "    semiConductor_data = pd.concat([stock_data, semiConductor_data], ignore_index=True)\n",
    "\n",
    "    #print([val[0] for val in semiConductor_data.columns.tolist()])\n",
    "    #print(f\"Total Data Length: {len(semiConductor_data)}\")\n",
    "\n",
    "semiConductor_data = semiConductor_data.dropna()\n",
    "semiConductor_data.to_csv(\"semiconductorData.csv\", index=False)\n",
    "print([ i for i in semiConductor_data['Ticker'].unique()])\n",
    "for stock in SEMICONDUCTORS + [NVDA]:\n",
    "    print(f\"{stock} rows: {len(semiConductor_data.loc[semiConductor_data['Ticker'] == stock])}\")\n",
    "\n",
    "print(semiConductor_data.columns)\n",
    "semiConductor_data.drop(columns=['Date'], inplace=True)\n",
    "print(semiConductor_data.dtypes)\n",
    "semiConductor_data.head(5)\n"
   ]
  },
  {
   "cell_type": "code",
   "execution_count": 29,
   "metadata": {},
   "outputs": [],
   "source": [
    "class lstmDataset(Dataset):\n",
    "    def __init__(self, data, features, targets, input_window=20, output_window=10):\n",
    "        self.data = torch.FloatTensor(data.values)\n",
    "        self.input_window = input_window\n",
    "        self.output_window = output_window\n",
    "    \n",
    "    def __len__(self):\n",
    "        return len(self.data) - self.input_window - self.output_window + 1\n",
    "\n",
    "    def __getitem__(self, idx):\n",
    "        x = self.data[idx : idx + self.input_window]\n",
    "        y = self.data[idx + self.input_window : idx + self.input_window + self.output_window, 6]  # Assuming column 7 is the target\n",
    "        return x, y"
   ]
  },
  {
   "cell_type": "code",
   "execution_count": 19,
   "metadata": {},
   "outputs": [
    {
     "name": "stdout",
     "output_type": "stream",
     "text": [
      "{'ON': <__main__.lstmDataset object at 0x0000027CF1386840>, 'MRVL': <__main__.lstmDataset object at 0x0000027CFF0AA960>, 'ASML': <__main__.lstmDataset object at 0x0000027CFF0B3200>, 'AMD': <__main__.lstmDataset object at 0x0000027CFF0A63C0>, 'AVGO': <__main__.lstmDataset object at 0x0000027CFF0A30B0>, 'TSM': <__main__.lstmDataset object at 0x0000027C919C2CC0>, 'NVDA': <__main__.lstmDataset object at 0x0000027CFEC8E300>}\n",
      "{'ON': <torch.utils.data.dataloader.DataLoader object at 0x0000027CF1309D60>, 'MRVL': <torch.utils.data.dataloader.DataLoader object at 0x0000027CFF09DD00>, 'ASML': <torch.utils.data.dataloader.DataLoader object at 0x0000027CFDD182F0>, 'AMD': <torch.utils.data.dataloader.DataLoader object at 0x0000027CFEDF0470>, 'AVGO': <torch.utils.data.dataloader.DataLoader object at 0x0000027CFF0B01D0>, 'TSM': <torch.utils.data.dataloader.DataLoader object at 0x0000027CFF0ABBF0>, 'NVDA': <torch.utils.data.dataloader.DataLoader object at 0x0000027CF15FB920>}\n"
     ]
    }
   ],
   "source": [
    "features = [\"Close\", \"High\", \"Low\", \"Open\", \"Volume\"]\n",
    "targets = [\"RSI_Scaled\"]\n",
    "\n",
    "company_datasets = {}\n",
    "tickers = semiConductor_data['Ticker'].unique()\n",
    "\n",
    "# Create an lstmDataset for each company and store it in company_datasets\n",
    "for ticker in tickers:\n",
    "    data = semiConductor_data[semiConductor_data['Ticker'] == ticker].drop(columns=[\"Ticker\"])\n",
    "    company_datasets[ticker] = lstmDataset(data, input_window=20, output_window=10, features=features, targets=targets)\n",
    "print(company_datasets)\n",
    "\n",
    "batch_size = 32 \n",
    "company_loaders = {}\n",
    "\n",
    "for ticker, dataset in company_datasets.items():\n",
    "    company_loaders[ticker] = DataLoader(dataset, batch_size=batch_size, shuffle=True)\n",
    "\n",
    "print(company_loaders)"
   ]
  },
  {
   "cell_type": "markdown",
   "metadata": {},
   "source": [
    "Define LSTM Model"
   ]
  },
  {
   "cell_type": "code",
   "execution_count": 30,
   "metadata": {},
   "outputs": [],
   "source": [
    "class LSTMRegressionModel(nn.Module):\n",
    "    def __init__(self, input_size, output_size, dropout=0.2):\n",
    "        super(LSTMRegressionModel, self).__init__()\n",
    "        \n",
    "        # LSTM layers\n",
    "        self.lstm1 = nn.LSTM(input_size=input_size, \n",
    "                             hidden_size=64, \n",
    "                             batch_first=True, \n",
    "                             dropout=dropout)\n",
    "        \n",
    "        self.lstm2 = nn.LSTM(input_size=64, \n",
    "                             hidden_size=128, \n",
    "                             batch_first=True, \n",
    "                             dropout=dropout)\n",
    "\n",
    "        self.lstm3 = nn.LSTM(input_size=128, \n",
    "                             hidden_size=64, \n",
    "                             batch_first=True, \n",
    "                             dropout=dropout)\n",
    "        \n",
    "        # Fully connected layers\n",
    "        self.dense1 = nn.Linear(64, 128)\n",
    "        self.dense2 = nn.Linear(128, 64)\n",
    "        self.dense3 = nn.Linear(64, output_size)\n",
    "        \n",
    "        # Activation functions and dropout\n",
    "        self.relu = nn.ReLU()\n",
    "        self.dropout1 = nn.Dropout(0.2)\n",
    "        self.dropout2 = nn.Dropout(0.15)\n",
    "        \n",
    "    def forward(self, x):\n",
    "        # LSTM layers\n",
    "        out, _ = self.lstm1(x)\n",
    "        out = self.relu(out)\n",
    "\n",
    "        out, _ = self.lstm2(out)\n",
    "        out = self.relu(out)\n",
    "\n",
    "        out, (hn, _) = self.lstm3(out)  # Use the hidden state from the last LSTM\n",
    "        out = self.relu(out)\n",
    "        \n",
    "        # Fully connected layers\n",
    "        out = hn[-1]  # Final hidden state from the last LSTM layer\n",
    "        out = self.dense1(out)\n",
    "        out = self.relu(out)\n",
    "        out = self.dropout1(out)\n",
    "\n",
    "        out = self.dense2(out)\n",
    "        out = self.relu(out)\n",
    "        out = self.dropout2(out)\n",
    "\n",
    "        out = self.dense3(out)  # Linear output for regression\n",
    "        \n",
    "        return out"
   ]
  },
  {
   "cell_type": "code",
   "execution_count": 32,
   "metadata": {},
   "outputs": [
    {
     "name": "stderr",
     "output_type": "stream",
     "text": [
      "c:\\Users\\lordw\\OneDrive\\Documents\\Coding_Projects\\AlgoTrAdInG\\venv\\Lib\\site-packages\\torch\\nn\\modules\\rnn.py:123: UserWarning: dropout option adds dropout after all but last recurrent layer, so non-zero dropout expects num_layers greater than 1, but got dropout=0.2 and num_layers=1\n",
      "  warnings.warn(\n"
     ]
    },
    {
     "name": "stdout",
     "output_type": "stream",
     "text": [
      "Company: ON, Epoch: 0, Batch: 0, Loss: 0.2569963335990906\n",
      "Company: ON, Epoch: 0, Batch: 100, Loss: 0.04086890071630478\n",
      "Company: ON, Epoch: 1, Batch: 0, Loss: 0.04130784794688225\n",
      "Company: ON, Epoch: 1, Batch: 100, Loss: 0.033955853432416916\n",
      "Company: ON, Epoch: 2, Batch: 0, Loss: 0.03315970301628113\n",
      "Company: ON, Epoch: 2, Batch: 100, Loss: 0.06450843811035156\n",
      "Company: ON, Epoch: 3, Batch: 0, Loss: 0.027277108281850815\n",
      "Company: ON, Epoch: 3, Batch: 100, Loss: 0.03189463168382645\n",
      "Company: ON, Epoch: 4, Batch: 0, Loss: 0.03422979637980461\n",
      "Company: ON, Epoch: 4, Batch: 100, Loss: 0.039440859109163284\n",
      "Company: ON, Epoch: 5, Batch: 0, Loss: 0.0296607818454504\n",
      "Company: ON, Epoch: 5, Batch: 100, Loss: 0.03791889548301697\n",
      "Company: MRVL, Epoch: 0, Batch: 0, Loss: 0.029758885502815247\n",
      "Company: MRVL, Epoch: 0, Batch: 100, Loss: 0.026848291978240013\n",
      "Company: MRVL, Epoch: 1, Batch: 0, Loss: 0.029223540797829628\n",
      "Company: MRVL, Epoch: 1, Batch: 100, Loss: 0.030459102243185043\n",
      "Company: MRVL, Epoch: 2, Batch: 0, Loss: 0.028789397329092026\n",
      "Company: MRVL, Epoch: 2, Batch: 100, Loss: 0.03606291860342026\n",
      "Company: MRVL, Epoch: 3, Batch: 0, Loss: 0.03211841732263565\n",
      "Company: MRVL, Epoch: 3, Batch: 100, Loss: 0.024285130202770233\n",
      "Company: MRVL, Epoch: 4, Batch: 0, Loss: 0.0436205193400383\n",
      "Company: MRVL, Epoch: 4, Batch: 100, Loss: 0.03148233890533447\n",
      "Company: MRVL, Epoch: 5, Batch: 0, Loss: 0.03815633803606033\n",
      "Company: MRVL, Epoch: 5, Batch: 100, Loss: 0.023245450109243393\n",
      "Company: ASML, Epoch: 0, Batch: 0, Loss: 0.029585951939225197\n",
      "Company: ASML, Epoch: 0, Batch: 100, Loss: 0.02898540534079075\n",
      "Company: ASML, Epoch: 1, Batch: 0, Loss: 0.05097726732492447\n",
      "Company: ASML, Epoch: 1, Batch: 100, Loss: 0.04254045709967613\n",
      "Company: ASML, Epoch: 2, Batch: 0, Loss: 0.040390074253082275\n",
      "Company: ASML, Epoch: 2, Batch: 100, Loss: 0.03851731866598129\n",
      "Company: ASML, Epoch: 3, Batch: 0, Loss: 0.03715983405709267\n",
      "Company: ASML, Epoch: 3, Batch: 100, Loss: 0.036728739738464355\n",
      "Company: ASML, Epoch: 4, Batch: 0, Loss: 0.030186301097273827\n",
      "Company: ASML, Epoch: 4, Batch: 100, Loss: 0.031593333929777145\n",
      "Company: ASML, Epoch: 5, Batch: 0, Loss: 0.03679642826318741\n",
      "Company: ASML, Epoch: 5, Batch: 100, Loss: 0.03855619952082634\n",
      "Company: AMD, Epoch: 0, Batch: 0, Loss: 0.03871670365333557\n",
      "Company: AMD, Epoch: 0, Batch: 100, Loss: 0.03207162767648697\n",
      "Company: AMD, Epoch: 1, Batch: 0, Loss: 0.033284712582826614\n",
      "Company: AMD, Epoch: 1, Batch: 100, Loss: 0.042179301381111145\n",
      "Company: AMD, Epoch: 2, Batch: 0, Loss: 0.04695069044828415\n",
      "Company: AMD, Epoch: 2, Batch: 100, Loss: 0.0331198088824749\n",
      "Company: AMD, Epoch: 3, Batch: 0, Loss: 0.04130931571125984\n",
      "Company: AMD, Epoch: 3, Batch: 100, Loss: 0.04223758727312088\n",
      "Company: AMD, Epoch: 4, Batch: 0, Loss: 0.034310273826122284\n",
      "Company: AMD, Epoch: 4, Batch: 100, Loss: 0.035070791840553284\n",
      "Company: AMD, Epoch: 5, Batch: 0, Loss: 0.03850001096725464\n",
      "Company: AMD, Epoch: 5, Batch: 100, Loss: 0.033226363360881805\n",
      "Company: AVGO, Epoch: 0, Batch: 0, Loss: 0.029361944645643234\n",
      "Company: AVGO, Epoch: 0, Batch: 100, Loss: 0.03467480093240738\n",
      "Company: AVGO, Epoch: 1, Batch: 0, Loss: 0.030696522444486618\n",
      "Company: AVGO, Epoch: 1, Batch: 100, Loss: 0.02985628880560398\n",
      "Company: AVGO, Epoch: 2, Batch: 0, Loss: 0.032571032643318176\n",
      "Company: AVGO, Epoch: 2, Batch: 100, Loss: 0.03172299265861511\n",
      "Company: AVGO, Epoch: 3, Batch: 0, Loss: 0.01768414117395878\n",
      "Company: AVGO, Epoch: 3, Batch: 100, Loss: 0.03013058379292488\n",
      "Company: AVGO, Epoch: 4, Batch: 0, Loss: 0.03101637400686741\n",
      "Company: AVGO, Epoch: 4, Batch: 100, Loss: 0.032672397792339325\n",
      "Company: AVGO, Epoch: 5, Batch: 0, Loss: 0.029804114252328873\n",
      "Company: AVGO, Epoch: 5, Batch: 100, Loss: 0.033667054027318954\n",
      "Company: TSM, Epoch: 0, Batch: 0, Loss: 0.037241604179143906\n",
      "Company: TSM, Epoch: 0, Batch: 100, Loss: 0.03834427148103714\n",
      "Company: TSM, Epoch: 1, Batch: 0, Loss: 0.028942018747329712\n",
      "Company: TSM, Epoch: 1, Batch: 100, Loss: 0.03510168194770813\n",
      "Company: TSM, Epoch: 2, Batch: 0, Loss: 0.03061049059033394\n",
      "Company: TSM, Epoch: 2, Batch: 100, Loss: 0.024793045595288277\n",
      "Company: TSM, Epoch: 3, Batch: 0, Loss: 0.019612081348896027\n",
      "Company: TSM, Epoch: 3, Batch: 100, Loss: 0.030608639121055603\n",
      "Company: TSM, Epoch: 4, Batch: 0, Loss: 0.03154469281435013\n",
      "Company: TSM, Epoch: 4, Batch: 100, Loss: 0.028545182198286057\n",
      "Company: TSM, Epoch: 5, Batch: 0, Loss: 0.03582672402262688\n",
      "Company: TSM, Epoch: 5, Batch: 100, Loss: 0.03328742831945419\n",
      "Company: NVDA, Epoch: 0, Batch: 0, Loss: 0.0354485809803009\n",
      "Company: NVDA, Epoch: 0, Batch: 100, Loss: 0.01818205788731575\n",
      "Company: NVDA, Epoch: 1, Batch: 0, Loss: 0.03499028831720352\n",
      "Company: NVDA, Epoch: 1, Batch: 100, Loss: 0.04388127475976944\n",
      "Company: NVDA, Epoch: 2, Batch: 0, Loss: 0.03429004177451134\n",
      "Company: NVDA, Epoch: 2, Batch: 100, Loss: 0.02279045432806015\n",
      "Company: NVDA, Epoch: 3, Batch: 0, Loss: 0.03736836463212967\n",
      "Company: NVDA, Epoch: 3, Batch: 100, Loss: 0.030658164992928505\n",
      "Company: NVDA, Epoch: 4, Batch: 0, Loss: 0.026509582996368408\n",
      "Company: NVDA, Epoch: 4, Batch: 100, Loss: 0.033152975142002106\n",
      "Company: NVDA, Epoch: 5, Batch: 0, Loss: 0.03413350135087967\n",
      "Company: NVDA, Epoch: 5, Batch: 100, Loss: 0.035006083548069\n"
     ]
    }
   ],
   "source": [
    "epochs = 6\n",
    "model = LSTMRegressionModel(input_size=7, output_size=10) \n",
    "optimizer = torch.optim.Adam(model.parameters(), lr=0.002)\n",
    "criterion = torch.nn.MSELoss() # This is fine for a regression problem from a 0 - 1 range\n",
    "\n",
    "for ticker, loader in company_loaders.items(): # Key Value type shit\n",
    "    for epoch in range(epochs):\n",
    "        for batch_idx, (x_batch, y_batch) in enumerate(loader):\n",
    "            #print(len(x_batch[0][0]))\n",
    "            optimizer.zero_grad()\n",
    "\n",
    "            y_pred = model(x_batch)\n",
    "\n",
    "            loss = criterion(y_pred, y_batch)\n",
    "\n",
    "            loss.backward()\n",
    "            optimizer.step()\n",
    "\n",
    "            if batch_idx % 100 == 0:\n",
    "                print(f\"Company: {ticker}, Epoch: {epoch}, Batch: {batch_idx}, Loss: {loss.item()}\")"
   ]
  },
  {
   "cell_type": "code",
   "execution_count": 36,
   "metadata": {},
   "outputs": [
    {
     "name": "stdout",
     "output_type": "stream",
     "text": [
      "Test Loss after 100 batches: 0.033706211932003495\n",
      "Average Test Loss: 0.03344621606717963\n",
      "[0, 1, 2, 3, 4, 5, 6, 7, 8, 9]\n",
      "(32, 10)\n",
      "(32, 10)\n",
      "Predictions for NVDA: [0.5341897  0.53407514 0.52892786 0.5307972  0.5299128  0.5252712\n",
      " 0.52845687 0.52447855 0.52775496 0.525178  ]\n",
      "True values for NVDA: [0.5766716  0.7353365  0.7339897  0.87075716 0.89704496 0.8978394\n",
      " 0.91612536 0.91335654 0.89112777 0.87645084]\n"
     ]
    },
    {
     "data": {
      "image/png": "[encoded data removed]",
      "text/plain": [
       "<Figure size 640x480 with 1 Axes>"
      ]
     },
     "metadata": {},
     "output_type": "display_data"
    },
    {
     "name": "stdout",
     "output_type": "stream",
     "text": [
      "(32, 10)\n",
      "(32, 10)\n",
      "Predictions for NVDA: [0.5341897  0.53407514 0.52892786 0.5307972  0.5299128  0.5252712\n",
      " 0.52845687 0.52447855 0.52775496 0.525178  ]\n",
      "True values for NVDA: [0.32826948 0.33626935 0.3454896  0.32439974 0.40307206 0.36271635\n",
      " 0.4260123  0.49684644 0.63967276 0.6310761 ]\n"
     ]
    },
    {
     "data": {
      "image/png": "[encoded data removed]",
      "text/plain": [
       "<Figure size 640x480 with 1 Axes>"
      ]
     },
     "metadata": {},
     "output_type": "display_data"
    },
    {
     "name": "stdout",
     "output_type": "stream",
     "text": [
      "(32, 10)\n",
      "(32, 10)\n",
      "Predictions for NVDA: [0.5341897  0.53407514 0.52892786 0.5307972  0.5299128  0.5252712\n",
      " 0.52845687 0.52447855 0.52775496 0.525178  ]\n",
      "True values for NVDA: [0.4323417  0.35968384 0.4235245  0.58303916 0.5734985  0.4338899\n",
      " 0.33970758 0.3836676  0.37853765 0.40021712]\n"
     ]
    },
    {
     "data": {
      "image/png": "[encoded data removed]",
      "text/plain": [
       "<Figure size 640x480 with 1 Axes>"
      ]
     },
     "metadata": {},
     "output_type": "display_data"
    }
   ],
   "source": [
    "model.eval()\n",
    "test_loss = 0\n",
    "num_batches = 0\n",
    "\n",
    "with torch.no_grad():\n",
    "    i = 0\n",
    "    for ticker, loader in company_loaders.items():\n",
    "        i += 1\n",
    "        for x_batch, y_batch in loader:\n",
    "            y_pred = model(x_batch)\n",
    "            \n",
    "            loss = criterion(y_pred, y_batch)\n",
    "            test_loss += loss.item()\n",
    "            num_batches += 1\n",
    "            \n",
    "            if num_batches % 100 == 0:\n",
    "                print(f\"Test Loss after {num_batches} batches: {test_loss / num_batches}\")\n",
    "        if i == 1:\n",
    "            break\n",
    "        \n",
    "# Calculate average test loss\n",
    "avg_test_loss = test_loss / num_batches\n",
    "print(f\"Average Test Loss: {avg_test_loss}\")\n",
    "\n",
    "coordinates = np.linspace(start=0, stop=9, num=10, dtype=int).tolist()\n",
    "print(coordinates)\n",
    "\n",
    "ticker = \"NVDA\"  # Example: test for NVIDIA\n",
    "j = 0\n",
    "for x_batch, y_batch in company_loaders[ticker]:\n",
    "    j += 1\n",
    "    y_pred = model(x_batch)\n",
    "    \n",
    "    y_pred = y_pred.detach().numpy()\n",
    "    y_batch = y_batch.numpy()\n",
    "    print(y_batch.shape)\n",
    "    print(y_pred.shape)\n",
    "    print(f\"Predictions for {ticker}: {y_pred[0]}\")\n",
    "    print(f\"True values for {ticker}: {y_batch[0]}\")\n",
    "    plt.plot(coordinates, y_batch[0], color=\"blue\")\n",
    "    plt.plot(coordinates, y_pred[0], color=\"red\")\n",
    "    plt.show()\n",
    "    if j == 3:\n",
    "        break"
   ]
  },
  {
   "cell_type": "markdown",
   "metadata": {},
   "source": []
  },
  {
   "cell_type": "markdown",
   "metadata": {},
   "source": []
  }
 ],
 "metadata": {
  "kernelspec": {
   "display_name": "venv",
   "language": "python",
   "name": "python3"
  },
  "language_info": {
   "codemirror_mode": {
    "name": "ipython",
    "version": 3
   },
   "file_extension": ".py",
   "mimetype": "text/x-python",
   "name": "python",
   "nbconvert_exporter": "python",
   "pygments_lexer": "ipython3",
   "version": "3.12.8"
  }
 },
 "nbformat": 4,
 "nbformat_minor": 2
}
