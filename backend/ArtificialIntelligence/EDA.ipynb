{
 "cells": [
  {
   "cell_type": "markdown",
   "metadata": {},
   "source": [
    "# ***Exploratory Data Analysis Financial Data***"
   ]
  },
  {
   "cell_type": "markdown",
   "metadata": {},
   "source": [
    "- Create a stock trend similarity function comparison maker using a forecaster\n",
    "- I want to take each function for the past month, and see which stocks are following a related trend"
   ]
  },
  {
   "cell_type": "markdown",
   "metadata": {},
   "source": [
    "Import Packages"
   ]
  },
  {
   "cell_type": "code",
   "execution_count": 1,
   "metadata": {},
   "outputs": [
    {
     "name": "stdout",
     "output_type": "stream",
     "text": [
      "pandas: 2.2.3\n",
      "numpy: 2.2.0\n",
      "yfinance: 0.2.50\n",
      "scikit-learn: 1.6.0\n",
      "matplotlib: 3.10.0\n",
      "seaborn: 0.13.2\n",
      "xgboost: 2.1.3\n",
      "statsmodels: 0.14.4\n"
     ]
    }
   ],
   "source": [
    "# Data Processing & Analysis\n",
    "import pandas as pd\n",
    "print(f\"pandas: {pd.__version__}\")\n",
    "\n",
    "import numpy as np\n",
    "print(f\"numpy: {np.__version__}\")\n",
    "\n",
    "import yfinance as yf\n",
    "print(f\"yfinance: {yf.__version__}\")\n",
    "\n",
    "from datetime import datetime, timedelta\n",
    "\n",
    "import sklearn\n",
    "print(f\"scikit-learn: {sklearn.__version__}\")\n",
    "from sklearn.preprocessing import MinMaxScaler, StandardScaler, RobustScaler\n",
    "from sklearn.model_selection import train_test_split, KFold, GridSearchCV, TimeSeriesSplit\n",
    "\n",
    "# Visualization\n",
    "import matplotlib\n",
    "print(f\"matplotlib: {matplotlib.__version__}\")\n",
    "import matplotlib.pyplot as plt\n",
    "\n",
    "import seaborn as sns\n",
    "print(f\"seaborn: {sns.__version__}\")\n",
    "\n",
    "# Machine Learning Models\n",
    "from sklearn.ensemble import (\n",
    "   RandomForestRegressor,\n",
    "   GradientBoostingRegressor, \n",
    "   AdaBoostRegressor,\n",
    "   VotingRegressor,\n",
    "   StackingRegressor,\n",
    "   BaggingRegressor\n",
    ")\n",
    "from sklearn.svm import SVR\n",
    "from sklearn.linear_model import LinearRegression, Ridge, Lasso, ElasticNet\n",
    "from sklearn.tree import DecisionTreeRegressor\n",
    "from sklearn.neighbors import KNeighborsRegressor\n",
    "from sklearn.neural_network import MLPRegressor\n",
    "from sklearn.gaussian_process import GaussianProcessRegressor\n",
    "from sklearn.cross_decomposition import PLSRegression\n",
    "\n",
    "import xgboost as xgb\n",
    "print(f\"xgboost: {xgb.__version__}\")\n",
    "from xgboost import XGBRegressor\n",
    "\n",
    "# Time Series Specific\n",
    "import statsmodels\n",
    "print(f\"statsmodels: {statsmodels.__version__}\")\n",
    "from statsmodels.tsa.arima.model import ARIMA\n",
    "from statsmodels.tsa.statespace.sarimax import SARIMAX\n",
    "from statsmodels.tsa.holtwinters import ExponentialSmoothing\n",
    "\n",
    "from bs4 import BeautifulSoup\n",
    "import requests\n",
    "import re \n",
    "\n",
    "# Model Evaluation\n",
    "from sklearn.metrics import (\n",
    "   mean_squared_error,\n",
    "   mean_absolute_error,\n",
    "   r2_score,\n",
    "   accuracy_score,\n",
    "   precision_score,\n",
    "   recall_score,\n",
    "   f1_score\n",
    ")"
   ]
  },
  {
   "cell_type": "markdown",
   "metadata": {},
   "source": [
    "Extract S&P 500 list"
   ]
  },
  {
   "cell_type": "code",
   "execution_count": 2,
   "metadata": {},
   "outputs": [
    {
     "name": "stdout",
     "output_type": "stream",
     "text": [
      "['AAPL', 'MSFT', 'NVDA', 'AMZN', 'GOOGL', 'GOOG', 'META', 'TSLA', 'AVGO', 'BRK-B', 'WMT', 'LLY', 'JPM', 'V', 'MA', 'ORCL', 'XOM', 'UNH', 'COST', 'PG', 'NFLX', 'HD', 'JNJ', 'BAC', 'CRM', 'ABBV', 'KO', 'CVX', 'TMUS', 'MRK', 'ACN', 'WFC', 'CSCO', 'NOW', 'PEP', 'BX', 'MCD', 'AXP', 'IBM', 'DIS', 'LIN', 'TMO', 'ADBE', 'MS', 'AMD', 'ABT', 'PM', 'ISRG', 'GS', 'INTU', 'GE', 'CAT', 'PLTR', 'TXN', 'VZ', 'QCOM', 'BKNG', 'DHR', 'T', 'BLK', 'RTX', 'SPGI', 'HON', 'PFE', 'NEE', 'CMCSA', 'PGR', 'LOW', 'AMGN', 'ANET', 'SCHW', 'TJX', 'UNP', 'SYK', 'BA', 'ETN', 'AMAT', 'C', 'BSX', 'KKR', 'UBER', 'PANW', 'COP', 'ADP', 'FI', 'DE', 'BMY', 'NKE', 'LMT', 'GILD', 'CB', 'UPS', 'ADI', 'MMC', 'MDT', 'SBUX', 'VRTX', 'MU', 'PLD', 'LRCX', 'GEV', 'SO', 'MO', 'EQIX', 'CRWD', 'PYPL', 'SHW', 'CME', 'ICE', 'TT', 'KLAC', 'APH', 'AMT', 'MCO', 'CMG', 'ELV', 'INTC', 'CDNS', 'DUK', 'WM', 'PH', 'ABNB', 'MDLZ', 'DELL', 'WELL', 'MAR', 'MSI', 'ITW', 'AON', 'SNPS', 'PNC', 'CL', 'REGN', 'CI', 'HCA', 'CTAS', 'USB', 'ZTS', 'FTNT', 'MCK', 'CEG', 'GD', 'ORLY', 'TDG', 'EMR', 'MMM', 'NOC', 'COF', 'FDX', 'ECL', 'EOG', 'APD', 'BDX', 'SPG', 'RSG', 'WMB', 'ADSK', 'RCL', 'AJG', 'CSX', 'CARR', 'TGT', 'DLR', 'HLT', 'KMI', 'OKE', 'TFC', 'CPRT', 'AFL', 'CHTR', 'ROP', 'PCAR', 'BK', 'GM', 'MET', 'FCX', 'CVS', 'SRE', 'TRV', 'AZO', 'NXPI', 'GWW', 'NSC', 'JCI', 'SLB', 'PSA', 'AMP', 'ALL', 'FICO', 'PAYX', 'MNST', 'ROST', 'AEP', 'CMI', 'PWR', 'URI', 'VST', 'MSCI', 'AXON', 'O', 'PSX', 'FANG', 'LULU', 'NDAQ', 'D', 'AIG', 'HWM', 'KR', 'DHI', 'KDP', 'KMB', 'COR', 'FIS', 'TEL', 'EW', 'DFS', 'OXY', 'FAST', 'MPC', 'NEM', 'PCG', 'AME', 'PEG', 'STZ', 'PRU', 'KVUE', 'ODFL', 'GLW', 'LHX', 'CCI', 'HES', 'BKR', 'GRMN', 'EA', 'CTSH', 'CTVA', 'VRSK', 'F', 'DAL', 'XEL', 'CBRE', 'A', 'SYY', 'TRGP', 'VLO', 'LVS', 'OTIS', 'IR', 'IT', 'EXC', 'LEN', 'KHC', 'YUM', 'GIS', 'GEHC', 'VMC', 'IQV', 'HSY', 'RMD', 'IDXX', 'ACGL', 'WAB', 'CCL', 'DD', 'MLM', 'TTWO', 'ETR', 'ROK', 'EXR', 'EFX', 'UAL', 'AVB', 'WTW', 'MTB', 'HIG', 'ED', 'DECK', 'RJF', 'EBAY', 'LYV', 'HPQ', 'MCHP', 'EIX', 'VICI', 'IRM', 'CNC', 'WEC', 'ANSS', 'DXCM', 'MPWR', 'BRO', 'CSGP', 'FITB', 'GDDY', 'XYL', 'STT', 'GPN', 'TSCO', 'CAH', 'HUM', 'ON', 'PPG', 'K', 'EQR', 'KEYS', 'DOW', 'NUE', 'HPE', 'SW', 'EL', 'WBD', 'BR', 'DOV', 'CHD', 'EQT', 'TPL', 'MTD', 'FTV', 'TYL', 'VLTO', 'TROW', 'SYF', 'VTR', 'NVR', 'DTE', 'AWK', 'LYB', 'NTAP', 'CPAY', 'ADM', 'PPL', 'WST', 'HBAN', 'AEE', 'EXPE', 'CDW', 'HAL', 'ROL', 'FE', 'PTC', 'HUBB', 'FOXA', 'PHM', 'CINF', 'WRB', 'IFF', 'FOX', 'ATO', 'TDY', 'DRI', 'SBAC', 'ERIE', 'BIIB', 'RF', 'WAT', 'MKC', 'WDC', 'ZBH', 'TSN', 'TER', 'CNP', 'CBOE', 'ES', 'PKG', 'DVN', 'CLX', 'ZBRA', 'STE', 'NTRS', 'WY', 'INVH', 'CMS', 'BF-B', 'ULTA', 'LUV', 'FSLR', 'LDOS', 'ESS', 'CFG', 'LH', 'STX', 'SMCI', 'IP', 'VRSN', 'FDS', 'COO', 'NRG', 'MAA', 'BBY', 'PODD', 'SNA', 'L', 'STLD', 'CTRA', 'HRL', 'TRMB', 'PFG', 'OMC', 'ARE', 'GEN', 'JBHT', 'KEY', 'BLDR', 'NI', 'DGX', 'PNR', 'MOH', 'J', 'BALL', 'NWS', 'DG', 'HOLX', 'UDR', 'IEX', 'GPC', 'ALGN', 'EXPD', 'NWSA', 'KIM', 'JBL', 'MAS', 'LNT', 'AVY', 'EG', 'BAX', 'DLTR', 'MRNA', 'FFIV', 'CF', 'TPR', 'DPZ', 'VTRS', 'AKAM', 'DOC', 'SWKS', 'TXT', 'EPAM', 'EVRG', 'RL', 'AMCR', 'REG', 'RVTY', 'APTV', 'KMX', 'BXP', 'POOL', 'JKHY', 'CAG', 'INCY', 'CHRW', 'JNPR', 'CPB', 'HST', 'CPT', 'SWK', 'NDSN', 'DVA', 'TAP', 'UHS', 'SJM', 'PAYC', 'DAY', 'SOLV', 'ALLE', 'TECH', 'NCLH', 'BG', 'IPG', 'AIZ', 'ALB', 'BEN', 'EMN', 'MGM', 'AOS', 'PNW', 'WYNN', 'FRT', 'LKQ', 'GNRC', 'CRL', 'ENPH', 'GL', 'AES', 'LW', 'MKTX', 'HSIC', 'WBA', 'HAS', 'TFX', 'MTCH', 'MOS', 'IVZ', 'APA', 'MHK', 'HII', 'CE', 'CZR', 'PARA', 'BWA', 'QRVO', 'FMC', 'AMTM']\n"
     ]
    }
   ],
   "source": [
    "r = requests.get('https://stockanalysis.com/list/sp-500-stocks/')\n",
    "\n",
    "soup = BeautifulSoup(r.content, 'html.parser')\n",
    "\n",
    "# Main =>\n",
    "s = soup.find('main', class_='contain')\n",
    "\n",
    "# Find all tds with class \"sym svelte-eurwtr\"\n",
    "tds = s.find_all('td', class_='sym svelte-eurwtr')\n",
    "\n",
    "SPY = []\n",
    "\n",
    "for item in tds:\n",
    "    # Find the text within the td\n",
    "    ticker = item.find('a')\n",
    "    ticker = ticker.text\n",
    "    ticker = re.sub(r'[^a-zA-Z0-9]', '-', ticker)\n",
    "    SPY.append(ticker)\n",
    "\n",
    "print(SPY)"
   ]
  },
  {
   "cell_type": "markdown",
   "metadata": {},
   "source": [
    "Gather Moving Average Data"
   ]
  },
  {
   "cell_type": "code",
   "execution_count": 12,
   "metadata": {},
   "outputs": [],
   "source": [
    "def process_df(df):\n",
    "    \"\"\"\n",
    "    Calculate the percent change for a day\n",
    "    Calculate the moving average for 50 and 100 day periods\n",
    "    Calculate the momentum\n",
    "    \"\"\"\n",
    "    # Calculate Daily % Change\n",
    "    df['Daily%Change'] = (((df['Close'] - df['Open']) / df['Open']) * 100).round(4)\n",
    "\n",
    "    # Calculate 50-day Moving Average\n",
    "    df['50DaySMA'] = df['Close'].rolling(window=50).mean()\n",
    "\n",
    "    # Calculate 100-day Moving Average\n",
    "    df['100DaySMA'] = df['Close'].rolling(window=100).mean()\n",
    "\n",
    "    return df"
   ]
  },
  {
   "cell_type": "code",
   "execution_count": 21,
   "metadata": {},
   "outputs": [
    {
     "name": "stderr",
     "output_type": "stream",
     "text": [
      "[*********************100%***********************]  1 of 1 completed\n"
     ]
    },
    {
     "data": {
      "text/html": [
       "<div>\n",
       "<style scoped>\n",
       "    .dataframe tbody tr th:only-of-type {\n",
       "        vertical-align: middle;\n",
       "    }\n",
       "\n",
       "    .dataframe tbody tr th {\n",
       "        vertical-align: top;\n",
       "    }\n",
       "\n",
       "    .dataframe thead tr th {\n",
       "        text-align: left;\n",
       "    }\n",
       "</style>\n",
       "<table border=\"1\" class=\"dataframe\">\n",
       "  <thead>\n",
       "    <tr>\n",
       "      <th>Price</th>\n",
       "      <th>Date</th>\n",
       "      <th>Adj Close</th>\n",
       "      <th>Close</th>\n",
       "      <th>High</th>\n",
       "      <th>Low</th>\n",
       "      <th>Open</th>\n",
       "      <th>Volume</th>\n",
       "      <th>Daily%Change</th>\n",
       "      <th>50DaySMA</th>\n",
       "      <th>100DaySMA</th>\n",
       "    </tr>\n",
       "    <tr>\n",
       "      <th>Ticker</th>\n",
       "      <th></th>\n",
       "      <th>AAPL</th>\n",
       "      <th>AAPL</th>\n",
       "      <th>AAPL</th>\n",
       "      <th>AAPL</th>\n",
       "      <th>AAPL</th>\n",
       "      <th>AAPL</th>\n",
       "      <th></th>\n",
       "      <th></th>\n",
       "      <th></th>\n",
       "    </tr>\n",
       "  </thead>\n",
       "  <tbody>\n",
       "    <tr>\n",
       "      <th>149</th>\n",
       "      <td>2023-08-08</td>\n",
       "      <td>178.447052</td>\n",
       "      <td>179.800003</td>\n",
       "      <td>180.270004</td>\n",
       "      <td>177.580002</td>\n",
       "      <td>179.690002</td>\n",
       "      <td>67823000</td>\n",
       "      <td>0.0612</td>\n",
       "      <td>187.363200</td>\n",
       "      <td>176.802500</td>\n",
       "    </tr>\n",
       "    <tr>\n",
       "      <th>150</th>\n",
       "      <td>2023-08-09</td>\n",
       "      <td>176.849197</td>\n",
       "      <td>178.190002</td>\n",
       "      <td>180.929993</td>\n",
       "      <td>177.009995</td>\n",
       "      <td>180.869995</td>\n",
       "      <td>60378500</td>\n",
       "      <td>-1.4817</td>\n",
       "      <td>187.418401</td>\n",
       "      <td>177.025900</td>\n",
       "    </tr>\n",
       "    <tr>\n",
       "      <th>151</th>\n",
       "      <td>2023-08-10</td>\n",
       "      <td>176.630844</td>\n",
       "      <td>177.970001</td>\n",
       "      <td>180.750000</td>\n",
       "      <td>177.600006</td>\n",
       "      <td>179.479996</td>\n",
       "      <td>54686900</td>\n",
       "      <td>-0.8413</td>\n",
       "      <td>187.431801</td>\n",
       "      <td>177.255600</td>\n",
       "    </tr>\n",
       "    <tr>\n",
       "      <th>152</th>\n",
       "      <td>2023-08-11</td>\n",
       "      <td>176.690460</td>\n",
       "      <td>177.789993</td>\n",
       "      <td>178.619995</td>\n",
       "      <td>176.550003</td>\n",
       "      <td>177.320007</td>\n",
       "      <td>51988100</td>\n",
       "      <td>0.2650</td>\n",
       "      <td>187.442600</td>\n",
       "      <td>177.459500</td>\n",
       "    </tr>\n",
       "    <tr>\n",
       "      <th>153</th>\n",
       "      <td>2023-08-14</td>\n",
       "      <td>178.350143</td>\n",
       "      <td>179.460007</td>\n",
       "      <td>179.690002</td>\n",
       "      <td>177.309998</td>\n",
       "      <td>177.970001</td>\n",
       "      <td>43675600</td>\n",
       "      <td>0.8372</td>\n",
       "      <td>187.430001</td>\n",
       "      <td>177.661300</td>\n",
       "    </tr>\n",
       "    <tr>\n",
       "      <th>154</th>\n",
       "      <td>2023-08-15</td>\n",
       "      <td>176.352570</td>\n",
       "      <td>177.449997</td>\n",
       "      <td>179.479996</td>\n",
       "      <td>177.050003</td>\n",
       "      <td>178.880005</td>\n",
       "      <td>43622600</td>\n",
       "      <td>-0.7994</td>\n",
       "      <td>187.360001</td>\n",
       "      <td>177.857500</td>\n",
       "    </tr>\n",
       "    <tr>\n",
       "      <th>155</th>\n",
       "      <td>2023-08-16</td>\n",
       "      <td>175.478012</td>\n",
       "      <td>176.570007</td>\n",
       "      <td>178.539993</td>\n",
       "      <td>176.500000</td>\n",
       "      <td>177.130005</td>\n",
       "      <td>46964900</td>\n",
       "      <td>-0.3162</td>\n",
       "      <td>187.299801</td>\n",
       "      <td>178.033900</td>\n",
       "    </tr>\n",
       "    <tr>\n",
       "      <th>156</th>\n",
       "      <td>2023-08-17</td>\n",
       "      <td>172.923904</td>\n",
       "      <td>174.000000</td>\n",
       "      <td>177.509995</td>\n",
       "      <td>173.479996</td>\n",
       "      <td>177.139999</td>\n",
       "      <td>66062900</td>\n",
       "      <td>-1.7726</td>\n",
       "      <td>187.195601</td>\n",
       "      <td>178.171400</td>\n",
       "    </tr>\n",
       "    <tr>\n",
       "      <th>157</th>\n",
       "      <td>2023-08-18</td>\n",
       "      <td>173.410889</td>\n",
       "      <td>174.490005</td>\n",
       "      <td>175.100006</td>\n",
       "      <td>171.960007</td>\n",
       "      <td>172.300003</td>\n",
       "      <td>61114200</td>\n",
       "      <td>1.2710</td>\n",
       "      <td>187.129001</td>\n",
       "      <td>178.333501</td>\n",
       "    </tr>\n",
       "    <tr>\n",
       "      <th>158</th>\n",
       "      <td>2023-08-21</td>\n",
       "      <td>174.752533</td>\n",
       "      <td>175.839996</td>\n",
       "      <td>176.130005</td>\n",
       "      <td>173.740005</td>\n",
       "      <td>175.070007</td>\n",
       "      <td>46311900</td>\n",
       "      <td>0.4398</td>\n",
       "      <td>187.034400</td>\n",
       "      <td>178.515401</td>\n",
       "    </tr>\n",
       "  </tbody>\n",
       "</table>\n",
       "</div>"
      ],
      "text/plain": [
       "Price        Date   Adj Close       Close        High         Low        Open  \\\n",
       "Ticker                   AAPL        AAPL        AAPL        AAPL        AAPL   \n",
       "149    2023-08-08  178.447052  179.800003  180.270004  177.580002  179.690002   \n",
       "150    2023-08-09  176.849197  178.190002  180.929993  177.009995  180.869995   \n",
       "151    2023-08-10  176.630844  177.970001  180.750000  177.600006  179.479996   \n",
       "152    2023-08-11  176.690460  177.789993  178.619995  176.550003  177.320007   \n",
       "153    2023-08-14  178.350143  179.460007  179.690002  177.309998  177.970001   \n",
       "154    2023-08-15  176.352570  177.449997  179.479996  177.050003  178.880005   \n",
       "155    2023-08-16  175.478012  176.570007  178.539993  176.500000  177.130005   \n",
       "156    2023-08-17  172.923904  174.000000  177.509995  173.479996  177.139999   \n",
       "157    2023-08-18  173.410889  174.490005  175.100006  171.960007  172.300003   \n",
       "158    2023-08-21  174.752533  175.839996  176.130005  173.740005  175.070007   \n",
       "\n",
       "Price     Volume Daily%Change    50DaySMA   100DaySMA  \n",
       "Ticker      AAPL                                       \n",
       "149     67823000       0.0612  187.363200  176.802500  \n",
       "150     60378500      -1.4817  187.418401  177.025900  \n",
       "151     54686900      -0.8413  187.431801  177.255600  \n",
       "152     51988100       0.2650  187.442600  177.459500  \n",
       "153     43675600       0.8372  187.430001  177.661300  \n",
       "154     43622600      -0.7994  187.360001  177.857500  \n",
       "155     46964900      -0.3162  187.299801  178.033900  \n",
       "156     66062900      -1.7726  187.195601  178.171400  \n",
       "157     61114200       1.2710  187.129001  178.333501  \n",
       "158     46311900       0.4398  187.034400  178.515401  "
      ]
     },
     "execution_count": 21,
     "metadata": {},
     "output_type": "execute_result"
    }
   ],
   "source": [
    "ticker = \"AAPL\"\n",
    "apple = yf.download(ticker, start=\"2023-01-01\", end=\"2024-01-01\")\n",
    "apple.reset_index(inplace=True)\n",
    "apple = process_df(apple).dropna()\n",
    "apple.iloc[50:60].head(10)"
   ]
  },
  {
   "cell_type": "code",
   "execution_count": 28,
   "metadata": {},
   "outputs": [
    {
     "data": {
      "image/png": "[encoded data removed]",
      "text/plain": [
       "<Figure size 640x480 with 1 Axes>"
      ]
     },
     "metadata": {},
     "output_type": "display_data"
    }
   ],
   "source": [
    "plt.plot(apple['Date'],apple['Daily%Change'])\n",
    "plt.scatter(x=apple['Date'], y=apple['100DaySMA'])\n",
    "plt.show()"
   ]
  },
  {
   "cell_type": "markdown",
   "metadata": {},
   "source": [
    "Batch Datasets for each of the 500 companies"
   ]
  },
  {
   "cell_type": "code",
   "execution_count": null,
   "metadata": {},
   "outputs": [],
   "source": []
  },
  {
   "cell_type": "markdown",
   "metadata": {},
   "source": [
    "ML Modeling"
   ]
  },
  {
   "cell_type": "code",
   "execution_count": null,
   "metadata": {},
   "outputs": [],
   "source": []
  },
  {
   "cell_type": "markdown",
   "metadata": {},
   "source": [
    "Store in Datafile"
   ]
  },
  {
   "cell_type": "markdown",
   "metadata": {},
   "source": []
  }
 ],
 "metadata": {
  "kernelspec": {
   "display_name": "venv",
   "language": "python",
   "name": "python3"
  },
  "language_info": {
   "codemirror_mode": {
    "name": "ipython",
    "version": 3
   },
   "file_extension": ".py",
   "mimetype": "text/x-python",
   "name": "python",
   "nbconvert_exporter": "python",
   "pygments_lexer": "ipython3",
   "version": "3.12.8"
  }
 },
 "nbformat": 4,
 "nbformat_minor": 2
}
